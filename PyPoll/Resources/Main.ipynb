{
 "metadata": {
  "language_info": {
   "codemirror_mode": {
    "name": "ipython",
    "version": 3
   },
   "file_extension": ".py",
   "mimetype": "text/x-python",
   "name": "python",
   "nbconvert_exporter": "python",
   "pygments_lexer": "ipython3",
   "version": "3.8.7"
  },
  "orig_nbformat": 4,
  "kernelspec": {
   "name": "python3",
   "display_name": "Python 3.8.7 64-bit"
  },
  "interpreter": {
   "hash": "d3924a48f97a19c9b2f882b3f8a0635fe75529d63126d836a54c7d09770bcb2d"
  }
 },
 "nbformat": 4,
 "nbformat_minor": 2,
 "cells": [
  {
   "cell_type": "code",
   "execution_count": 1,
   "metadata": {},
   "outputs": [
    {
     "output_type": "stream",
     "name": "stdout",
     "text": [
      "Election Results\n---------------------------------\nTotal Votes:3521001\n"
     ]
    }
   ],
   "source": [
    "import os\n",
    "import csv\n",
    "csvpath = os.path.join('election_data.csv')\n",
    "# Store the Header Row\n",
    "with open(csvpath) as csvfile:\n",
    " # Create lists to store the values   \n",
    "    csvreader = csv.reader(csvfile, delimiter = ',')\n",
    "    csv_header = next(csvreader)\n",
    "    List_of_Candidates = []\n",
    "    Number_of_Votes = [] \n",
    "    County_Vote_From =[]\n",
    "\n",
    "\n",
    "# loop through the csv and add the variables to the lists\n",
    "# cast your string to an integer as csv is all strings\n",
    "\n",
    "    for row in csvreader:\n",
    "        Number_of_Votes.append(int(row[0]))\n",
    "        County_Vote_From.append(row[1])\n",
    "        List_of_Candidates.append(row[2])\n",
    "\n",
    "    #for i in range(len(Number_of_Votes)-1):\n",
    "\n",
    "\n",
    "\n",
    "\n",
    "\n",
    "\n",
    "\n",
    "\n",
    "print(\"Election Results\")\n",
    "print(\"---------------------------------\")\n",
    "print(f\"Total Votes:{len(Number_of_Votes)}\")"
   ]
  },
  {
   "cell_type": "code",
   "execution_count": 9,
   "metadata": {},
   "outputs": [],
   "source": [
    "import os\n",
    "import csv\n",
    "# Create dictionary to store pairs of the values  \n",
    "election ={}\n",
    "# Starts the count at zero\n",
    "total_votes = 0\n",
    "\n",
    "csvpath = os.path.join('election_data.csv')\n",
    "\n",
    "with open(csvpath) as csvfile:\n",
    "     csvreader = csv.reader(csvfile, delimiter = ',')\n",
    "# Store the Header Row \n",
    "     csv_header = next(csvreader)\n",
    "     for row in csvreader:\n",
    "        total_votes += 1\n",
    "        if row[2] in election.keys():\n",
    "            election[row[2]] = election[row[2]] + 1\n",
    "        else:\n",
    "            election[row[2]] = 1 \n",
    "\n",
    "    \n",
    "     candidates = []\n",
    "     vote_count = []\n",
    "\n",
    "#Populate the lists with the dicitonary keys and values by candidate and vote\n",
    "\n",
    "for key, value in election.items():\n",
    "    candidates.append(key)\n",
    "    vote_count.append(value)"
   ]
  },
  {
   "cell_type": "code",
   "execution_count": null,
   "metadata": {},
   "outputs": [],
   "source": []
  }
 ]
}