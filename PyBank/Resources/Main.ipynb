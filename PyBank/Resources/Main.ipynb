{
 "metadata": {
  "language_info": {
   "codemirror_mode": {
    "name": "ipython",
    "version": 3
   },
   "file_extension": ".py",
   "mimetype": "text/x-python",
   "name": "python",
   "nbconvert_exporter": "python",
   "pygments_lexer": "ipython3",
   "version": "3.8.7"
  },
  "orig_nbformat": 4,
  "kernelspec": {
   "name": "python3",
   "display_name": "Python 3.8.7 64-bit"
  },
  "interpreter": {
   "hash": "d3924a48f97a19c9b2f882b3f8a0635fe75529d63126d836a54c7d09770bcb2d"
  }
 },
 "nbformat": 4,
 "nbformat_minor": 2,
 "cells": [
  {
   "cell_type": "code",
   "execution_count": 47,
   "metadata": {},
   "outputs": [
    {
     "output_type": "stream",
     "name": "stdout",
     "text": [
      "Financial Analysis\n---------------------------------\nTotal Months:86\nTotal Profit: $38382578\nAverage Changes in Profit: $-2315\nGreatest Increase in Profits: Feb-2012 $1926159\nGreatest Decrease in Profits: Sep-2013 $-2196167\n"
     ]
    }
   ],
   "source": [
    "#The net total amount of \"Profit/Losses\" over the entire period\n",
    "#The average of the changes in \"Profit/Losses\" over the entire period\n",
    "#The greatest increase in profits (date and amount) over the entire period\n",
    "#The greatest decrease in losses (date and amount) over the entire period\n",
    "#As an example, your analysis should look similar to the one below:\n",
    "#Financial Analysis\n",
    "#--------------------------\n",
    "#Total Months: 86\n",
    "#Total: $38382578\n",
    "#Average  Change: $-2315.12\n",
    "#Greatest Increase in Profits: Feb-2012 ($1926159)\n",
    "#Greatest Decrease in Profits: Sep-2013 ($-2196167)\n",
    "#In addition, your final script should both print the analysis to the terminal and export a text file with the results.\n",
    "\n",
    "# Read in CSV #\n",
    "# Store the Header Row\n",
    "# Print To terminal\n",
    "\n",
    "import os\n",
    "import csv\n",
    "csvpath = os.path.join('budget_data.csv')\n",
    "# Create lists to store the values   \n",
    "with open(csvpath) as csvfile:\n",
    "    csvreader = csv.reader(csvfile, delimiter = ',')\n",
    "    csv_header = next(csvreader)\n",
    "    total_months =[]\n",
    "    net_profit =[]\n",
    "    average_changes_in_profit = [] \n",
    "#loop through the csv and add them to the lists\n",
    "    for row in csvreader:\n",
    "        total_months.append(row[0])\n",
    "        net_profit.append(int(row[1]))\n",
    "#cast you string to an integer as csv is all strings\n",
    "    for i in range(len(net_profit)-1):\n",
    "        average_changes_in_profit.append(net_profit[i+1]-net_profit[i])\n",
    "\n",
    "#Query the greatest increase and greatest decrease from my list    \n",
    "\n",
    "greatest_increase = max(average_changes_in_profit)\n",
    "greatest_decrease = min(average_changes_in_profit)\n",
    "\n",
    "#using index() method to map month greatest increase and greatest decrease happened. +1 for header\n",
    "\n",
    "greatest_increase_month = average_changes_in_profit.index(greatest_increase)+1\n",
    "greatest_decrease_month = average_changes_in_profit.index(greatest_decrease)+1\n",
    "\n",
    "#print everything\n",
    "#print(f\"CSV Header:{csv_header}\")\n",
    "\n",
    "print(\"Financial Analysis\")\n",
    "print(\"---------------------------------\")\n",
    "print(f\"Total Months:{len(total_months)}\")\n",
    "print(f\"Total Profit: ${sum(net_profit)}\")\n",
    "print(f\"Average Changes in Profit: ${round(sum(average_changes_in_profit)/len(average_changes_in_profit))}\")\n",
    "print(f\"Greatest Increase in Profits: {total_months[greatest_increase_month]} ${(str(greatest_increase))}\")\n",
    "print(f\"Greatest Decrease in Profits: {total_months[greatest_decrease_month]} ${(str(greatest_decrease))}\")\n",
    "\n",
    "#Once printing is working export to .txt and test\n",
    "output = os.path.join('output.txt')\n",
    "with open(output, \"w\") as newtextfile:\n",
    "    newtextfile.write(\"Financial Analysis\")\n",
    "    newtextfile.write(\"\\n\")\n",
    "    newtextfile.write(\"------------------------\")\n",
    "    newtextfile.write(\"\\n\")\n",
    "    newtextfile.write(f\"Total Months:{len(total_months)}\")\n",
    "    newtextfile.write(\"\\n\")\n",
    "    newtextfile.write(f\"Total: ${sum(net_profit)}\")\n",
    "    newtextfile.write(\"\\n\")\n",
    "    newtextfile.write(f\"Average Change: ${round(sum(average_changes_in_profit)/len(average_changes_in_profit),2)}\")\n",
    "    newtextfile.write(\"\\n\")\n",
    "    newtextfile.write(f\"Greatest Increase in Profits: {total_months[greatest_increase_month]} ${(str(greatest_increase))}\")\n",
    "    newtextfile.write(\"\\n\")\n",
    "    newtextfile.write(f\"Greatest Decrease in Profits: {total_months[greatest_decrease_month]} ${(str(greatest_decrease))}\")\n",
    "\n",
    "\n"
   ]
  },
  {
   "cell_type": "code",
   "execution_count": null,
   "metadata": {},
   "outputs": [],
   "source": []
  }
 ]
}